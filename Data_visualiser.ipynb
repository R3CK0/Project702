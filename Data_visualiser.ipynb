{
 "cells": [
  {
   "cell_type": "code",
   "execution_count": 133,
   "metadata": {
    "collapsed": true
   },
   "outputs": [],
   "source": [
    "import pandas as pd\n",
    "import numpy as np\n",
    "import matplotlib.pyplot as plt\n",
    "from matplotlib import colors"
   ]
  },
  {
   "cell_type": "code",
   "execution_count": 146,
   "outputs": [],
   "source": [
    "df = pd.read_csv('benchmark_data.csv')\n",
    "df = df.drop(columns=[\"Unnamed: 0\"])\n",
    "df_optim = df[df[\"Optimisation_time\"]!=0]\n",
    "df = df[df[\"Optimisation_time\"]==0]\n",
    "df = df.drop(columns=[\"Optimisation_time\"])\n",
    "map_sizes = [\"small\", \"medium\", \"large\", \"xlarge\"]\n",
    "obstacle_coverages = [0, 0.1, 0.2, 0.3, 0.4, 0.5]\n",
    "algorithms = [\"astar\", \"rrt\", \"rrt*\", \"informed rrt*\", \"fmt*\", \"bit*\"]"
   ],
   "metadata": {
    "collapsed": false
   }
  },
  {
   "cell_type": "code",
   "execution_count": 147,
   "outputs": [
    {
     "name": "stdout",
     "output_type": "stream",
     "text": [
      "Index(['Algorithm', 'Size', 'Obstacle Coverage', 'Path Length', 'Time'], dtype='object')\n",
      "['astar' 'rrt' 'rrt*' 'informed rrt*' 'bit*']\n"
     ]
    }
   ],
   "source": [
    "print(df.columns)\n",
    "print(pd.unique(df[\"Algorithm\"]))"
   ],
   "metadata": {
    "collapsed": false
   }
  },
  {
   "cell_type": "code",
   "execution_count": 148,
   "outputs": [],
   "source": [
    "def process_data(data):\n",
    "    columns = data.columns\n",
    "    algorithms = pd.unique(data[\"Algorithm\"])\n",
    "    algo_data = {}\n",
    "    for algorithm in algorithms:\n",
    "        algo_data[algorithm] = data[data[\"Algorithm\"]==algorithm].groupby([\"Size\", \"Obstacle Coverage\"])\n",
    "        mean = algo_data[algorithm].mean().rename(columns={'Path Length': 'Mean Length', 'Time': 'Mean Time'})\n",
    "        var = algo_data[algorithm].var().rename(columns={'Path Length': 'Var Length', 'Time': 'Var Time'})\n",
    "        algo_data[algorithm] = pd.concat([mean, var], axis=1)\n",
    "    return algo_data"
   ],
   "metadata": {
    "collapsed": false
   }
  },
  {
   "cell_type": "code",
   "execution_count": 149,
   "outputs": [
    {
     "name": "stderr",
     "output_type": "stream",
     "text": [
      "C:\\Users\\masn2601\\AppData\\Local\\Temp\\ipykernel_29868\\1317702398.py:7: FutureWarning: The default value of numeric_only in DataFrameGroupBy.mean is deprecated. In a future version, numeric_only will default to False. Either specify numeric_only or select only columns which should be valid for the function.\n",
      "  mean = algo_data[algorithm].mean().rename(columns={'Path Length': 'Mean Length', 'Time': 'Mean Time'})\n",
      "C:\\Users\\masn2601\\AppData\\Local\\Temp\\ipykernel_29868\\1317702398.py:8: FutureWarning: The default value of numeric_only in DataFrameGroupBy.var is deprecated. In a future version, numeric_only will default to False. Either specify numeric_only or select only columns which should be valid for the function.\n",
      "  var = algo_data[algorithm].var().rename(columns={'Path Length': 'Var Length', 'Time': 'Var Time'})\n",
      "C:\\Users\\masn2601\\AppData\\Local\\Temp\\ipykernel_29868\\1317702398.py:7: FutureWarning: The default value of numeric_only in DataFrameGroupBy.mean is deprecated. In a future version, numeric_only will default to False. Either specify numeric_only or select only columns which should be valid for the function.\n",
      "  mean = algo_data[algorithm].mean().rename(columns={'Path Length': 'Mean Length', 'Time': 'Mean Time'})\n",
      "C:\\Users\\masn2601\\AppData\\Local\\Temp\\ipykernel_29868\\1317702398.py:8: FutureWarning: The default value of numeric_only in DataFrameGroupBy.var is deprecated. In a future version, numeric_only will default to False. Either specify numeric_only or select only columns which should be valid for the function.\n",
      "  var = algo_data[algorithm].var().rename(columns={'Path Length': 'Var Length', 'Time': 'Var Time'})\n",
      "C:\\Users\\masn2601\\AppData\\Local\\Temp\\ipykernel_29868\\1317702398.py:7: FutureWarning: The default value of numeric_only in DataFrameGroupBy.mean is deprecated. In a future version, numeric_only will default to False. Either specify numeric_only or select only columns which should be valid for the function.\n",
      "  mean = algo_data[algorithm].mean().rename(columns={'Path Length': 'Mean Length', 'Time': 'Mean Time'})\n",
      "C:\\Users\\masn2601\\AppData\\Local\\Temp\\ipykernel_29868\\1317702398.py:8: FutureWarning: The default value of numeric_only in DataFrameGroupBy.var is deprecated. In a future version, numeric_only will default to False. Either specify numeric_only or select only columns which should be valid for the function.\n",
      "  var = algo_data[algorithm].var().rename(columns={'Path Length': 'Var Length', 'Time': 'Var Time'})\n",
      "C:\\Users\\masn2601\\AppData\\Local\\Temp\\ipykernel_29868\\1317702398.py:7: FutureWarning: The default value of numeric_only in DataFrameGroupBy.mean is deprecated. In a future version, numeric_only will default to False. Either specify numeric_only or select only columns which should be valid for the function.\n",
      "  mean = algo_data[algorithm].mean().rename(columns={'Path Length': 'Mean Length', 'Time': 'Mean Time'})\n",
      "C:\\Users\\masn2601\\AppData\\Local\\Temp\\ipykernel_29868\\1317702398.py:8: FutureWarning: The default value of numeric_only in DataFrameGroupBy.var is deprecated. In a future version, numeric_only will default to False. Either specify numeric_only or select only columns which should be valid for the function.\n",
      "  var = algo_data[algorithm].var().rename(columns={'Path Length': 'Var Length', 'Time': 'Var Time'})\n",
      "C:\\Users\\masn2601\\AppData\\Local\\Temp\\ipykernel_29868\\1317702398.py:7: FutureWarning: The default value of numeric_only in DataFrameGroupBy.mean is deprecated. In a future version, numeric_only will default to False. Either specify numeric_only or select only columns which should be valid for the function.\n",
      "  mean = algo_data[algorithm].mean().rename(columns={'Path Length': 'Mean Length', 'Time': 'Mean Time'})\n",
      "C:\\Users\\masn2601\\AppData\\Local\\Temp\\ipykernel_29868\\1317702398.py:8: FutureWarning: The default value of numeric_only in DataFrameGroupBy.var is deprecated. In a future version, numeric_only will default to False. Either specify numeric_only or select only columns which should be valid for the function.\n",
      "  var = algo_data[algorithm].var().rename(columns={'Path Length': 'Var Length', 'Time': 'Var Time'})\n",
      "C:\\Users\\masn2601\\AppData\\Local\\Temp\\ipykernel_29868\\1317702398.py:7: FutureWarning: The default value of numeric_only in DataFrameGroupBy.mean is deprecated. In a future version, numeric_only will default to False. Either specify numeric_only or select only columns which should be valid for the function.\n",
      "  mean = algo_data[algorithm].mean().rename(columns={'Path Length': 'Mean Length', 'Time': 'Mean Time'})\n",
      "C:\\Users\\masn2601\\AppData\\Local\\Temp\\ipykernel_29868\\1317702398.py:8: FutureWarning: The default value of numeric_only in DataFrameGroupBy.var is deprecated. In a future version, numeric_only will default to False. Either specify numeric_only or select only columns which should be valid for the function.\n",
      "  var = algo_data[algorithm].var().rename(columns={'Path Length': 'Var Length', 'Time': 'Var Time'})\n",
      "C:\\Users\\masn2601\\AppData\\Local\\Temp\\ipykernel_29868\\1317702398.py:7: FutureWarning: The default value of numeric_only in DataFrameGroupBy.mean is deprecated. In a future version, numeric_only will default to False. Either specify numeric_only or select only columns which should be valid for the function.\n",
      "  mean = algo_data[algorithm].mean().rename(columns={'Path Length': 'Mean Length', 'Time': 'Mean Time'})\n",
      "C:\\Users\\masn2601\\AppData\\Local\\Temp\\ipykernel_29868\\1317702398.py:8: FutureWarning: The default value of numeric_only in DataFrameGroupBy.var is deprecated. In a future version, numeric_only will default to False. Either specify numeric_only or select only columns which should be valid for the function.\n",
      "  var = algo_data[algorithm].var().rename(columns={'Path Length': 'Var Length', 'Time': 'Var Time'})\n",
      "C:\\Users\\masn2601\\AppData\\Local\\Temp\\ipykernel_29868\\1317702398.py:7: FutureWarning: The default value of numeric_only in DataFrameGroupBy.mean is deprecated. In a future version, numeric_only will default to False. Either specify numeric_only or select only columns which should be valid for the function.\n",
      "  mean = algo_data[algorithm].mean().rename(columns={'Path Length': 'Mean Length', 'Time': 'Mean Time'})\n",
      "C:\\Users\\masn2601\\AppData\\Local\\Temp\\ipykernel_29868\\1317702398.py:8: FutureWarning: The default value of numeric_only in DataFrameGroupBy.var is deprecated. In a future version, numeric_only will default to False. Either specify numeric_only or select only columns which should be valid for the function.\n",
      "  var = algo_data[algorithm].var().rename(columns={'Path Length': 'Var Length', 'Time': 'Var Time'})\n"
     ]
    }
   ],
   "source": [
    "algo_data = process_data(df)\n",
    "algo_data_optim = process_data(df_optim)"
   ],
   "metadata": {
    "collapsed": false
   }
  },
  {
   "cell_type": "code",
   "execution_count": 152,
   "outputs": [],
   "source": [
    "def plot_timeLength(data):\n",
    "    large30Data = pd.DataFrame()\n",
    "    for algo in data.keys():\n",
    "        large30Data = pd.concat([large30Data, data[algo].loc['large', 10]], axis=1)\n",
    "    large30Data = large30Data.T\n",
    "    large30Data.index = list(data.keys())\n",
    "    large30Data = large30Data.reset_index().rename(columns={'index': 'Algorithm'})\n",
    "    colorlist = list(colors.ColorConverter.colors.keys())\n",
    "    fig, ax = plt.subplots()\n",
    "    [large30Data.iloc[[i]].plot.scatter('Mean Time', 'Mean Length', ax=ax, s=50, label=l, color=colorlist[i % len(colorlist)], logy=True, yerr='Var Length',  grid=True)  for i,l in enumerate(list(data.keys()))]"
   ],
   "metadata": {
    "collapsed": false
   }
  },
  {
   "cell_type": "code",
   "execution_count": 153,
   "outputs": [
    {
     "data": {
      "text/plain": "<Figure size 640x480 with 1 Axes>",
      "image/png": "[encoded data removed]"
     },
     "metadata": {},
     "output_type": "display_data"
    }
   ],
   "source": [
    "plot_timeLength(algo_data)"
   ],
   "metadata": {
    "collapsed": false
   }
  },
  {
   "cell_type": "code",
   "execution_count": null,
   "outputs": [],
   "source": [
    "def plot_optimisation(data):\n",
    "    pass"
   ],
   "metadata": {
    "collapsed": false
   }
  }
 ],
 "metadata": {
  "kernelspec": {
   "display_name": "Python 3",
   "language": "python",
   "name": "python3"
  },
  "language_info": {
   "codemirror_mode": {
    "name": "ipython",
    "version": 2
   },
   "file_extension": ".py",
   "mimetype": "text/x-python",
   "name": "python",
   "nbconvert_exporter": "python",
   "pygments_lexer": "ipython2",
   "version": "2.7.6"
  }
 },
 "nbformat": 4,
 "nbformat_minor": 0
}
